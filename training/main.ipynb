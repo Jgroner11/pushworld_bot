{
 "cells": [
  {
   "cell_type": "markdown",
   "id": "cd3784e7",
   "metadata": {},
   "source": [
    "Training a Model"
   ]
  },
  {
   "cell_type": "code",
   "execution_count": 1,
   "id": "f1506559",
   "metadata": {},
   "outputs": [
    {
     "name": "stdout",
     "output_type": "stream",
     "text": [
      "Average number of clones: 1.0\n"
     ]
    },
    {
     "name": "stderr",
     "output_type": "stream",
     "text": [
      "  2%|▏         | 2/100 [00:06<05:36,  3.44s/it, train_bps=0.0165]\n",
      "  2%|▏         | 2/100 [00:01<01:33,  1.04it/s, train_bps=0.0158]\n"
     ]
    }
   ],
   "source": [
    "from experiment import Experiment\n",
    "\n",
    "# Before running, set your parameters in the config file in this directory. You can see all possible parameters in the schem.yaml file in this directory\n",
    "config_path = \"config.yaml\"\n",
    "\n",
    "exp = Experiment(config_path, name=\"exp2\", overwrite=True)\n",
    "exp.run()"
   ]
  },
  {
   "cell_type": "markdown",
   "id": "4134691c",
   "metadata": {},
   "source": [
    "Analysis of Model"
   ]
  },
  {
   "cell_type": "code",
   "execution_count": 2,
   "id": "8c81dee3",
   "metadata": {},
   "outputs": [
    {
     "data": {
      "image/svg+xml": [
       "<?xml version=\"1.0\" encoding=\"UTF-8\"?>\n",
       "<svg xmlns=\"http://www.w3.org/2000/svg\" xmlns:xlink=\"http://www.w3.org/1999/xlink\" width=\"600\" height=\"600\" viewBox=\"0 0 600 600\">\n",
       "<defs>\n",
       "<g>\n",
       "<g id=\"glyph-0-0\">\n",
       "<path d=\"M 0.582031 -4.941406 C 0.582031 -6.128906 0.703125 -7.082031 0.945312 -7.804688 C 1.191406 -8.527344 1.554688 -9.082031 2.035156 -9.476562 C 2.515625 -9.867188 3.121094 -10.0625 3.847656 -10.0625 C 4.386719 -10.0625 4.859375 -9.953125 5.265625 -9.738281 C 5.667969 -9.519531 6.003906 -9.210938 6.269531 -8.800781 C 6.53125 -8.394531 6.738281 -7.898438 6.890625 -7.3125 C 7.039062 -6.726562 7.117188 -5.9375 7.117188 -4.941406 C 7.117188 -3.765625 6.996094 -2.816406 6.753906 -2.09375 C 6.511719 -1.371094 6.152344 -0.816406 5.671875 -0.421875 C 5.191406 -0.0273438 4.582031 0.171875 3.847656 0.171875 C 2.882812 0.171875 2.125 -0.175781 1.570312 -0.867188 C 0.910156 -1.703125 0.582031 -3.058594 0.582031 -4.941406 M 1.84375 -4.941406 C 1.84375 -3.296875 2.039062 -2.203125 2.421875 -1.65625 C 2.808594 -1.113281 3.285156 -0.839844 3.847656 -0.839844 C 4.414062 -0.839844 4.890625 -1.113281 5.273438 -1.660156 C 5.660156 -2.207031 5.851562 -3.300781 5.851562 -4.941406 C 5.851562 -6.59375 5.660156 -7.6875 5.273438 -8.230469 C 4.890625 -8.773438 4.410156 -9.042969 3.835938 -9.042969 C 3.269531 -9.042969 2.820312 -8.804688 2.480469 -8.328125 C 2.058594 -7.714844 1.84375 -6.585938 1.84375 -4.941406 Z M 1.84375 -4.941406 \"/>\n",
       "</g>\n",
       "<g id=\"glyph-0-1\">\n",
       "<path d=\"M 5.214844 0 L 3.984375 0 L 3.984375 -7.839844 C 3.6875 -7.558594 3.300781 -7.277344 2.820312 -6.992188 C 2.339844 -6.710938 1.90625 -6.5 1.523438 -6.359375 L 1.523438 -7.546875 C 2.210938 -7.871094 2.8125 -8.261719 3.328125 -8.722656 C 3.84375 -9.183594 4.207031 -9.628906 4.421875 -10.0625 L 5.214844 -10.0625 Z M 5.214844 0 \"/>\n",
       "</g>\n",
       "<g id=\"glyph-0-2\">\n",
       "<path d=\"M 7.046875 -1.183594 L 7.046875 0 L 0.421875 0 C 0.414062 -0.296875 0.460938 -0.582031 0.566406 -0.855469 C 0.734375 -1.304688 1.007812 -1.75 1.378906 -2.1875 C 1.75 -2.625 2.285156 -3.132812 2.988281 -3.703125 C 4.078125 -4.597656 4.8125 -5.304688 5.195312 -5.828125 C 5.578125 -6.347656 5.769531 -6.84375 5.769531 -7.308594 C 5.769531 -7.796875 5.59375 -8.207031 5.246094 -8.542969 C 4.898438 -8.875 4.445312 -9.042969 3.882812 -9.042969 C 3.289062 -9.042969 2.816406 -8.867188 2.460938 -8.511719 C 2.105469 -8.15625 1.925781 -7.664062 1.921875 -7.035156 L 0.65625 -7.164062 C 0.742188 -8.109375 1.070312 -8.828125 1.632812 -9.320312 C 2.199219 -9.816406 2.957031 -10.0625 3.910156 -10.0625 C 4.871094 -10.0625 5.632812 -9.796875 6.195312 -9.261719 C 6.753906 -8.730469 7.035156 -8.070312 7.035156 -7.28125 C 7.035156 -6.878906 6.953125 -6.484375 6.789062 -6.097656 C 6.625 -5.710938 6.351562 -5.300781 5.972656 -4.875 C 5.589844 -4.445312 4.957031 -3.859375 4.074219 -3.109375 C 3.335938 -2.492188 2.863281 -2.070312 2.652344 -1.847656 C 2.441406 -1.628906 2.269531 -1.40625 2.132812 -1.183594 Z M 7.046875 -1.183594 \"/>\n",
       "</g>\n",
       "</g>\n",
       "</defs>\n",
       "<rect x=\"-60\" y=\"-60\" width=\"720\" height=\"720\" fill=\"rgb(100%, 100%, 100%)\" fill-opacity=\"1\"/>\n",
       "<path fill=\"none\" stroke-width=\"1\" stroke-linecap=\"butt\" stroke-linejoin=\"miter\" stroke=\"rgb(26.666667%, 26.666667%, 26.666667%)\" stroke-opacity=\"1\" stroke-miterlimit=\"10\" d=\"M 338.410156 284.089844 C 338.410156 296.515625 328.335938 306.589844 315.910156 306.589844 C 303.484375 306.589844 293.410156 296.515625 293.410156 284.089844 C 293.410156 271.664062 303.484375 261.589844 315.910156 261.589844 C 328.335938 261.589844 338.410156 271.664062 338.410156 284.089844 \"/>\n",
       "<path fill=\"none\" stroke-width=\"1\" stroke-linecap=\"butt\" stroke-linejoin=\"miter\" stroke=\"rgb(26.666667%, 26.666667%, 26.666667%)\" stroke-opacity=\"1\" stroke-miterlimit=\"10\" d=\"M 300 300 C 312.34375 437.054688 385.257812 523.644531 521.054688 545.367188 \"/>\n",
       "<path fill-rule=\"nonzero\" fill=\"rgb(26.666667%, 26.666667%, 26.666667%)\" fill-opacity=\"1\" d=\"M 535.140625 547.621094 L 520.324219 549.945312 L 521.789062 540.792969 L 535.140625 547.621094 \"/>\n",
       "<path fill=\"none\" stroke-width=\"1\" stroke-linecap=\"butt\" stroke-linejoin=\"miter\" stroke=\"rgb(26.666667%, 26.666667%, 26.666667%)\" stroke-opacity=\"1\" stroke-miterlimit=\"10\" d=\"M 300 300 C 287.65625 162.945312 214.738281 76.359375 78.945312 54.632812 \"/>\n",
       "<path fill-rule=\"nonzero\" fill=\"rgb(26.666667%, 26.666667%, 26.666667%)\" fill-opacity=\"1\" d=\"M 64.859375 52.378906 L 79.675781 50.054688 L 78.210938 59.207031 L 64.859375 52.378906 \"/>\n",
       "<path fill=\"none\" stroke-width=\"1\" stroke-linecap=\"butt\" stroke-linejoin=\"miter\" stroke=\"rgb(26.666667%, 26.666667%, 26.666667%)\" stroke-opacity=\"1\" stroke-miterlimit=\"10\" d=\"M 550 550 C 537.65625 412.945312 464.738281 326.359375 328.945312 304.632812 \"/>\n",
       "<path fill-rule=\"nonzero\" fill=\"rgb(26.666667%, 26.666667%, 26.666667%)\" fill-opacity=\"1\" d=\"M 314.859375 302.378906 L 329.675781 300.054688 L 328.210938 309.207031 L 314.859375 302.378906 \"/>\n",
       "<path fill=\"none\" stroke-width=\"1\" stroke-linecap=\"butt\" stroke-linejoin=\"miter\" stroke=\"rgb(26.666667%, 26.666667%, 26.666667%)\" stroke-opacity=\"1\" stroke-miterlimit=\"10\" d=\"M 588.410156 534.089844 C 588.410156 546.515625 578.335938 556.589844 565.910156 556.589844 C 553.484375 556.589844 543.410156 546.515625 543.410156 534.089844 C 543.410156 521.664062 553.484375 511.589844 565.910156 511.589844 C 578.335938 511.589844 588.410156 521.664062 588.410156 534.089844 \"/>\n",
       "<path fill=\"none\" stroke-width=\"1\" stroke-linecap=\"butt\" stroke-linejoin=\"miter\" stroke=\"rgb(26.666667%, 26.666667%, 26.666667%)\" stroke-opacity=\"1\" stroke-miterlimit=\"10\" d=\"M 50 50 C 62.34375 187.054688 135.257812 273.644531 271.054688 295.371094 \"/>\n",
       "<path fill-rule=\"nonzero\" fill=\"rgb(26.666667%, 26.666667%, 26.666667%)\" fill-opacity=\"1\" d=\"M 285.140625 297.625 L 270.320312 299.945312 L 271.785156 290.792969 L 285.140625 297.625 \"/>\n",
       "<path fill=\"none\" stroke-width=\"1\" stroke-linecap=\"butt\" stroke-linejoin=\"miter\" stroke=\"rgb(26.666667%, 26.666667%, 26.666667%)\" stroke-opacity=\"1\" stroke-miterlimit=\"10\" d=\"M 88.410156 34.089844 C 88.410156 46.515625 78.335938 56.589844 65.910156 56.589844 C 53.484375 56.589844 43.410156 46.515625 43.410156 34.089844 C 43.410156 21.664062 53.484375 11.589844 65.910156 11.589844 C 78.335938 11.589844 88.410156 21.664062 88.410156 34.089844 \"/>\n",
       "<path fill-rule=\"nonzero\" fill=\"rgb(61.960784%, 0.392157%, 25.882353%)\" fill-opacity=\"1\" stroke-width=\"1\" stroke-linecap=\"butt\" stroke-linejoin=\"miter\" stroke=\"rgb(0%, 0%, 0%)\" stroke-opacity=\"1\" stroke-miterlimit=\"10\" d=\"M 315 300 C 315 308.285156 308.285156 315 300 315 C 291.714844 315 285 308.285156 285 300 C 285 291.714844 291.714844 285 300 285 C 308.285156 285 315 291.714844 315 300 \"/>\n",
       "<path fill-rule=\"nonzero\" fill=\"rgb(99.807766%, 99.923106%, 74.602076%)\" fill-opacity=\"1\" stroke-width=\"1\" stroke-linecap=\"butt\" stroke-linejoin=\"miter\" stroke=\"rgb(0%, 0%, 0%)\" stroke-opacity=\"1\" stroke-miterlimit=\"10\" d=\"M 565 550 C 565 558.285156 558.285156 565 550 565 C 541.714844 565 535 558.285156 535 550 C 535 541.714844 541.714844 535 550 535 C 558.285156 535 565 541.714844 565 550 \"/>\n",
       "<path fill-rule=\"nonzero\" fill=\"rgb(36.862745%, 30.980392%, 63.529412%)\" fill-opacity=\"1\" stroke-width=\"1\" stroke-linecap=\"butt\" stroke-linejoin=\"miter\" stroke=\"rgb(0%, 0%, 0%)\" stroke-opacity=\"1\" stroke-miterlimit=\"10\" d=\"M 65 50 C 65 58.285156 58.285156 65 50 65 C 41.714844 65 35 58.285156 35 50 C 35 41.714844 41.714844 35 50 35 C 58.285156 35 65 41.714844 65 50 \"/>\n",
       "<g fill=\"rgb(0%, 0%, 0%)\" fill-opacity=\"1\">\n",
       "<use xlink:href=\"#glyph-0-0\" x=\"296.152344\" y=\"307.015625\"/>\n",
       "</g>\n",
       "<g fill=\"rgb(0%, 0%, 0%)\" fill-opacity=\"1\">\n",
       "<use xlink:href=\"#glyph-0-1\" x=\"546.628906\" y=\"557.015625\"/>\n",
       "</g>\n",
       "<g fill=\"rgb(0%, 0%, 0%)\" fill-opacity=\"1\">\n",
       "<use xlink:href=\"#glyph-0-2\" x=\"46.269531\" y=\"57.015625\"/>\n",
       "</g>\n",
       "</svg>\n"
      ],
      "text/plain": [
       "<igraph.drawing.cairo.plot.CairoPlot at 0x1b9cc3cbeb0>"
      ]
     },
     "execution_count": 2,
     "metadata": {
      "image/svg+xml": {
       "isolated": true
      }
     },
     "output_type": "execute_result"
    }
   ],
   "source": [
    "from experiment import ExperimentData\n",
    "from cscg_helpers import Plotting\n",
    "\n",
    "e = ExperimentData.load(experiment_name=\"exp2\")\n",
    "Plotting.plot_graph(e.chmm, e.x, e.a, output_file=\"../experiments/simple_room/cscg.png\")\n",
    "\n",
    "# Plots the cscg part of the model. Each unique color represents a unique observation. Note that since the experiment \n",
    "# uses an int encoder, every single state gets mapped to a unique observation\n"
   ]
  },
  {
   "cell_type": "code",
   "execution_count": 1,
   "id": "18adb92e",
   "metadata": {},
   "outputs": [
    {
     "name": "stdout",
     "output_type": "stream",
     "text": [
      "0\n",
      "tensor([[nan, nan, nan]], grad_fn=<AddmmBackward0>)\n",
      "0\n",
      "tensor([[nan, nan, nan]], grad_fn=<AddmmBackward0>)\n",
      "0\n",
      "tensor([[nan, nan, nan]], grad_fn=<AddmmBackward0>)\n",
      "0\n",
      "tensor([[nan, nan, nan]], grad_fn=<AddmmBackward0>)\n",
      "0\n",
      "tensor([[nan, nan, nan]], grad_fn=<AddmmBackward0>)\n",
      "0\n",
      "tensor([[nan, nan, nan]], grad_fn=<AddmmBackward0>)\n",
      "0\n",
      "tensor([[nan, nan, nan]], grad_fn=<AddmmBackward0>)\n",
      "0\n",
      "tensor([[nan, nan, nan]], grad_fn=<AddmmBackward0>)\n",
      "0\n",
      "tensor([[nan, nan, nan]], grad_fn=<AddmmBackward0>)\n",
      "0\n",
      "tensor([[nan, nan, nan]], grad_fn=<AddmmBackward0>)\n",
      "0\n",
      "tensor([[nan, nan, nan]], grad_fn=<AddmmBackward0>)\n",
      "0\n",
      "tensor([[nan, nan, nan]], grad_fn=<AddmmBackward0>)\n",
      "0\n",
      "tensor([[nan, nan, nan]], grad_fn=<AddmmBackward0>)\n",
      "0\n",
      "tensor([[nan, nan, nan]], grad_fn=<AddmmBackward0>)\n",
      "0\n",
      "tensor([[nan, nan, nan]], grad_fn=<AddmmBackward0>)\n",
      "0\n",
      "tensor([[nan, nan, nan]], grad_fn=<AddmmBackward0>)\n",
      "0\n",
      "tensor([[nan, nan, nan]], grad_fn=<AddmmBackward0>)\n",
      "0\n",
      "tensor([[nan, nan, nan]], grad_fn=<AddmmBackward0>)\n",
      "0\n",
      "tensor([[nan, nan, nan]], grad_fn=<AddmmBackward0>)\n",
      "0\n",
      "tensor([[nan, nan, nan]], grad_fn=<AddmmBackward0>)\n",
      "0\n",
      "tensor([[nan, nan, nan]], grad_fn=<AddmmBackward0>)\n",
      "0\n",
      "tensor([[nan, nan, nan]], grad_fn=<AddmmBackward0>)\n",
      "0\n",
      "tensor([[nan, nan, nan]], grad_fn=<AddmmBackward0>)\n",
      "0\n",
      "tensor([[nan, nan, nan]], grad_fn=<AddmmBackward0>)\n",
      "0\n",
      "tensor([[nan, nan, nan]], grad_fn=<AddmmBackward0>)\n",
      "0\n",
      "tensor([[nan, nan, nan]], grad_fn=<AddmmBackward0>)\n",
      "0\n",
      "tensor([[nan, nan, nan]], grad_fn=<AddmmBackward0>)\n",
      "0\n",
      "tensor([[nan, nan, nan]], grad_fn=<AddmmBackward0>)\n",
      "0\n",
      "tensor([[nan, nan, nan]], grad_fn=<AddmmBackward0>)\n",
      "0\n",
      "tensor([[nan, nan, nan]], grad_fn=<AddmmBackward0>)\n",
      "0\n",
      "tensor([[nan, nan, nan]], grad_fn=<AddmmBackward0>)\n",
      "0\n",
      "tensor([[nan, nan, nan]], grad_fn=<AddmmBackward0>)\n",
      "0\n",
      "tensor([[nan, nan, nan]], grad_fn=<AddmmBackward0>)\n",
      "0\n",
      "tensor([[nan, nan, nan]], grad_fn=<AddmmBackward0>)\n"
     ]
    }
   ],
   "source": [
    "from analysis import Analysis\n",
    "\n",
    "# Use \"a\", \"r\" and arrow keys to move the agent while viewing the inferred state\n",
    "Analysis.simulate_trained_model(experiment_name=\"exp2\")\n"
   ]
  }
 ],
 "metadata": {
  "kernelspec": {
   "display_name": "pushworld_cscg_torch",
   "language": "python",
   "name": "python3"
  },
  "language_info": {
   "codemirror_mode": {
    "name": "ipython",
    "version": 3
   },
   "file_extension": ".py",
   "mimetype": "text/x-python",
   "name": "python",
   "nbconvert_exporter": "python",
   "pygments_lexer": "ipython3",
   "version": "3.10.18"
  }
 },
 "nbformat": 4,
 "nbformat_minor": 5
}
