{
 "cells": [
  {
   "cell_type": "markdown",
   "id": "cd3784e7",
   "metadata": {},
   "source": [
    "Training a Model"
   ]
  },
  {
   "cell_type": "code",
   "execution_count": 1,
   "id": "f1506559",
   "metadata": {},
   "outputs": [
    {
     "name": "stdout",
     "output_type": "stream",
     "text": [
      "Average number of clones: 3.0\n"
     ]
    },
    {
     "name": "stderr",
     "output_type": "stream",
     "text": [
      "100%|██████████| 100/100 [00:06<00:00, 14.51it/s, train_bps=0.183]\n",
      "  2%|▏         | 2/100 [00:01<01:33,  1.04it/s, train_bps=0.317]\n"
     ]
    }
   ],
   "source": [
    "from experiment import Experiment\n",
    "\n",
    "# Before running, set your parameters in the config file in this directory. You can see all possible parameters in the schem.yaml file in this directory\n",
    "config_path = \"config.yaml\"\n",
    "\n",
    "exp = Experiment(config_path, name=\"exp2\", overwrite=True)\n",
    "exp.run()"
   ]
  },
  {
   "cell_type": "markdown",
   "id": "4134691c",
   "metadata": {},
   "source": [
    "Analysis of Model"
   ]
  },
  {
   "cell_type": "code",
   "execution_count": 2,
   "id": "8c81dee3",
   "metadata": {},
   "outputs": [
    {
     "data": {
      "image/svg+xml": [
       "<?xml version=\"1.0\" encoding=\"UTF-8\"?>\n",
       "<svg xmlns=\"http://www.w3.org/2000/svg\" xmlns:xlink=\"http://www.w3.org/1999/xlink\" width=\"600\" height=\"600\" viewBox=\"0 0 600 600\">\n",
       "<defs>\n",
       "<g>\n",
       "<g id=\"glyph-0-0\">\n",
       "<path d=\"M 7.046875 -1.183594 L 7.046875 0 L 0.421875 0 C 0.414062 -0.296875 0.460938 -0.582031 0.566406 -0.855469 C 0.734375 -1.304688 1.007812 -1.75 1.378906 -2.1875 C 1.75 -2.625 2.285156 -3.132812 2.988281 -3.703125 C 4.078125 -4.597656 4.8125 -5.304688 5.195312 -5.828125 C 5.578125 -6.347656 5.769531 -6.84375 5.769531 -7.308594 C 5.769531 -7.796875 5.59375 -8.207031 5.246094 -8.542969 C 4.898438 -8.875 4.445312 -9.042969 3.882812 -9.042969 C 3.289062 -9.042969 2.816406 -8.867188 2.460938 -8.511719 C 2.105469 -8.15625 1.925781 -7.664062 1.921875 -7.035156 L 0.65625 -7.164062 C 0.742188 -8.109375 1.070312 -8.828125 1.632812 -9.320312 C 2.199219 -9.816406 2.957031 -10.0625 3.910156 -10.0625 C 4.871094 -10.0625 5.632812 -9.796875 6.195312 -9.261719 C 6.753906 -8.730469 7.035156 -8.070312 7.035156 -7.28125 C 7.035156 -6.878906 6.953125 -6.484375 6.789062 -6.097656 C 6.625 -5.710938 6.351562 -5.300781 5.972656 -4.875 C 5.589844 -4.445312 4.957031 -3.859375 4.074219 -3.109375 C 3.335938 -2.492188 2.863281 -2.070312 2.652344 -1.847656 C 2.441406 -1.628906 2.269531 -1.40625 2.132812 -1.183594 Z M 7.046875 -1.183594 \"/>\n",
       "</g>\n",
       "<g id=\"glyph-0-1\">\n",
       "<path d=\"M 0.582031 -2.625 L 1.875 -2.734375 C 1.96875 -2.105469 2.191406 -1.632812 2.539062 -1.316406 C 2.886719 -1 3.308594 -0.839844 3.800781 -0.839844 C 4.394531 -0.839844 4.894531 -1.0625 5.304688 -1.511719 C 5.714844 -1.957031 5.921875 -2.550781 5.921875 -3.289062 C 5.921875 -3.988281 5.722656 -4.542969 5.328125 -4.949219 C 4.933594 -5.355469 4.417969 -5.558594 3.78125 -5.558594 C 3.382812 -5.558594 3.027344 -5.46875 2.707031 -5.289062 C 2.386719 -5.109375 2.136719 -4.875 1.953125 -4.585938 L 0.800781 -4.738281 L 1.769531 -9.882812 L 6.753906 -9.882812 L 6.753906 -8.710938 L 2.753906 -8.710938 L 2.214844 -6.015625 C 2.816406 -6.433594 3.449219 -6.644531 4.109375 -6.644531 C 4.984375 -6.644531 5.722656 -6.339844 6.324219 -5.734375 C 6.925781 -5.128906 7.226562 -4.351562 7.226562 -3.398438 C 7.226562 -2.492188 6.960938 -1.707031 6.433594 -1.046875 C 5.789062 -0.234375 4.914062 0.171875 3.800781 0.171875 C 2.890625 0.171875 2.144531 -0.0859375 1.570312 -0.59375 C 0.992188 -1.105469 0.664062 -1.78125 0.582031 -2.625 Z M 0.582031 -2.625 \"/>\n",
       "</g>\n",
       "<g id=\"glyph-0-2\">\n",
       "<path d=\"M 0.664062 -8.710938 L 0.664062 -9.890625 L 7.148438 -9.890625 L 7.148438 -8.933594 C 6.511719 -8.253906 5.878906 -7.351562 5.253906 -6.226562 C 4.625 -5.101562 4.140625 -3.945312 3.800781 -2.753906 C 3.554688 -1.917969 3.398438 -0.996094 3.328125 0 L 2.0625 0 C 2.078125 -0.789062 2.234375 -1.742188 2.53125 -2.859375 C 2.824219 -3.972656 3.25 -5.050781 3.804688 -6.085938 C 4.359375 -7.125 4.945312 -8 5.570312 -8.710938 Z M 0.664062 -8.710938 \"/>\n",
       "</g>\n",
       "</g>\n",
       "</defs>\n",
       "<rect x=\"-60\" y=\"-60\" width=\"720\" height=\"720\" fill=\"rgb(100%, 100%, 100%)\" fill-opacity=\"1\"/>\n",
       "<path fill=\"none\" stroke-width=\"1\" stroke-linecap=\"butt\" stroke-linejoin=\"miter\" stroke=\"rgb(26.666667%, 26.666667%, 26.666667%)\" stroke-opacity=\"1\" stroke-miterlimit=\"10\" d=\"M 338.410156 284.089844 C 338.410156 296.515625 328.335938 306.589844 315.910156 306.589844 C 303.484375 306.589844 293.410156 296.515625 293.410156 284.089844 C 293.410156 271.664062 303.484375 261.589844 315.910156 261.589844 C 328.335938 261.589844 338.410156 271.664062 338.410156 284.089844 \"/>\n",
       "<path fill=\"none\" stroke-width=\"1\" stroke-linecap=\"butt\" stroke-linejoin=\"miter\" stroke=\"rgb(26.666667%, 26.666667%, 26.666667%)\" stroke-opacity=\"1\" stroke-miterlimit=\"10\" d=\"M 300 300 C 312.34375 437.054688 385.257812 523.644531 521.054688 545.367188 \"/>\n",
       "<path fill-rule=\"nonzero\" fill=\"rgb(26.666667%, 26.666667%, 26.666667%)\" fill-opacity=\"1\" d=\"M 535.140625 547.621094 L 520.324219 549.945312 L 521.789062 540.792969 L 535.140625 547.621094 \"/>\n",
       "<path fill=\"none\" stroke-width=\"1\" stroke-linecap=\"butt\" stroke-linejoin=\"miter\" stroke=\"rgb(26.666667%, 26.666667%, 26.666667%)\" stroke-opacity=\"1\" stroke-miterlimit=\"10\" d=\"M 300 300 C 287.65625 162.945312 214.738281 76.359375 78.945312 54.632812 \"/>\n",
       "<path fill-rule=\"nonzero\" fill=\"rgb(26.666667%, 26.666667%, 26.666667%)\" fill-opacity=\"1\" d=\"M 64.859375 52.378906 L 79.675781 50.054688 L 78.210938 59.207031 L 64.859375 52.378906 \"/>\n",
       "<path fill=\"none\" stroke-width=\"1\" stroke-linecap=\"butt\" stroke-linejoin=\"miter\" stroke=\"rgb(26.666667%, 26.666667%, 26.666667%)\" stroke-opacity=\"1\" stroke-miterlimit=\"10\" d=\"M 550 550 C 537.65625 412.945312 464.738281 326.359375 328.945312 304.632812 \"/>\n",
       "<path fill-rule=\"nonzero\" fill=\"rgb(26.666667%, 26.666667%, 26.666667%)\" fill-opacity=\"1\" d=\"M 314.859375 302.378906 L 329.675781 300.054688 L 328.210938 309.207031 L 314.859375 302.378906 \"/>\n",
       "<path fill=\"none\" stroke-width=\"1\" stroke-linecap=\"butt\" stroke-linejoin=\"miter\" stroke=\"rgb(26.666667%, 26.666667%, 26.666667%)\" stroke-opacity=\"1\" stroke-miterlimit=\"10\" d=\"M 588.410156 534.089844 C 588.410156 546.515625 578.335938 556.589844 565.910156 556.589844 C 553.484375 556.589844 543.410156 546.515625 543.410156 534.089844 C 543.410156 521.664062 553.484375 511.589844 565.910156 511.589844 C 578.335938 511.589844 588.410156 521.664062 588.410156 534.089844 \"/>\n",
       "<path fill=\"none\" stroke-width=\"1\" stroke-linecap=\"butt\" stroke-linejoin=\"miter\" stroke=\"rgb(26.666667%, 26.666667%, 26.666667%)\" stroke-opacity=\"1\" stroke-miterlimit=\"10\" d=\"M 50 50 C 62.34375 187.054688 135.257812 273.644531 271.054688 295.371094 \"/>\n",
       "<path fill-rule=\"nonzero\" fill=\"rgb(26.666667%, 26.666667%, 26.666667%)\" fill-opacity=\"1\" d=\"M 285.140625 297.625 L 270.320312 299.945312 L 271.785156 290.792969 L 285.140625 297.625 \"/>\n",
       "<path fill-rule=\"nonzero\" fill=\"rgb(61.960784%, 0.392157%, 25.882353%)\" fill-opacity=\"1\" stroke-width=\"1\" stroke-linecap=\"butt\" stroke-linejoin=\"miter\" stroke=\"rgb(0%, 0%, 0%)\" stroke-opacity=\"1\" stroke-miterlimit=\"10\" d=\"M 315 300 C 315 308.285156 308.285156 315 300 315 C 291.714844 315 285 308.285156 285 300 C 285 291.714844 291.714844 285 300 285 C 308.285156 285 315 291.714844 315 300 \"/>\n",
       "<path fill-rule=\"nonzero\" fill=\"rgb(99.807766%, 99.923106%, 74.602076%)\" fill-opacity=\"1\" stroke-width=\"1\" stroke-linecap=\"butt\" stroke-linejoin=\"miter\" stroke=\"rgb(0%, 0%, 0%)\" stroke-opacity=\"1\" stroke-miterlimit=\"10\" d=\"M 565 550 C 565 558.285156 558.285156 565 550 565 C 541.714844 565 535 558.285156 535 550 C 535 541.714844 541.714844 535 550 535 C 558.285156 535 565 541.714844 565 550 \"/>\n",
       "<path fill-rule=\"nonzero\" fill=\"rgb(36.862745%, 30.980392%, 63.529412%)\" fill-opacity=\"1\" stroke-width=\"1\" stroke-linecap=\"butt\" stroke-linejoin=\"miter\" stroke=\"rgb(0%, 0%, 0%)\" stroke-opacity=\"1\" stroke-miterlimit=\"10\" d=\"M 65 50 C 65 58.285156 58.285156 65 50 65 C 41.714844 65 35 58.285156 35 50 C 35 41.714844 41.714844 35 50 35 C 58.285156 35 65 41.714844 65 50 \"/>\n",
       "<g fill=\"rgb(0%, 0%, 0%)\" fill-opacity=\"1\">\n",
       "<use xlink:href=\"#glyph-0-0\" x=\"296.269531\" y=\"307.015625\"/>\n",
       "</g>\n",
       "<g fill=\"rgb(0%, 0%, 0%)\" fill-opacity=\"1\">\n",
       "<use xlink:href=\"#glyph-0-1\" x=\"546.097656\" y=\"556.925781\"/>\n",
       "</g>\n",
       "<g fill=\"rgb(0%, 0%, 0%)\" fill-opacity=\"1\">\n",
       "<use xlink:href=\"#glyph-0-2\" x=\"46.09375\" y=\"56.929688\"/>\n",
       "</g>\n",
       "</svg>\n"
      ],
      "text/plain": [
       "<igraph.drawing.cairo.plot.CairoPlot at 0x16549bbbf10>"
      ]
     },
     "execution_count": 2,
     "metadata": {
      "image/svg+xml": {
       "isolated": true
      }
     },
     "output_type": "execute_result"
    }
   ],
   "source": [
    "from experiment import ExperimentData\n",
    "from cscg_helpers import Plotting\n",
    "\n",
    "e = ExperimentData.load(experiment_name=\"exp2\")\n",
    "Plotting.plot_graph(e.chmm, e.x, e.a, output_file=\"../experiments/simple_room/cscg.png\")\n",
    "\n",
    "# Plots the cscg part of the model. Each unique color represents a unique observation. Note that since the experiment \n",
    "# uses an int encoder, every single state gets mapped to a unique observation\n"
   ]
  },
  {
   "cell_type": "code",
   "execution_count": 3,
   "id": "18adb92e",
   "metadata": {},
   "outputs": [],
   "source": [
    "from analysis import Analysis\n",
    "\n",
    "# Use \"a\", \"r\" and arrow keys to move the agent while viewing the inferred state\n",
    "Analysis.simulate_trained_model(experiment_name=\"exp2\")\n"
   ]
  }
 ],
 "metadata": {
  "kernelspec": {
   "display_name": "pushworld_cscg_torch",
   "language": "python",
   "name": "python3"
  },
  "language_info": {
   "codemirror_mode": {
    "name": "ipython",
    "version": 3
   },
   "file_extension": ".py",
   "mimetype": "text/x-python",
   "name": "python",
   "nbconvert_exporter": "python",
   "pygments_lexer": "ipython3",
   "version": "3.10.18"
  }
 },
 "nbformat": 4,
 "nbformat_minor": 5
}
